{
 "cells": [
  {
   "cell_type": "markdown",
   "metadata": {},
   "source": [
    "### Proyecto: Predicción de enfermedades"
   ]
  },
  {
   "cell_type": "markdown",
   "metadata": {},
   "source": [
    "##### ![1) Definición del objetivo:](https://github.com/chetincho/ds_Prediccion_de_enfermedades/blob/main/img/Definici%C3%B3n%20del%20objetivo.jpg?raw=true)"
   ]
  },
  {
   "cell_type": "markdown",
   "metadata": {},
   "source": [
    "Se busca obtener un modelo computacional que permita predecir enfermedades, dicho modelo se convertirá en un soporte para la toma de decisiones médicas cuya aplicación estará enfocada principalmente en estudiantes de medicina recién graduados que estén atravesando por su primer año de residencia."
   ]
  },
  {
   "cell_type": "markdown",
   "metadata": {},
   "source": [
    "##### ![2) Contexto comercial:](https://github.com/chetincho/ds_Prediccion_de_enfermedades/blob/main/img/Contexto%20comercial.jpg?raw=true)"
   ]
  },
  {
   "cell_type": "markdown",
   "metadata": {},
   "source": [
    "El resultado final del proyecto tiene por objetivo:<br>\n",
    "1- Minimizar inconvenientes legales causados por negligencias médicas proveniente de la inexperiencia de los recién graduados.<br>\n",
    "2- Proveer a los internos de un soporte a sus inferencias médicas ante una emergencia o la ausencia de un titular.<br>"
   ]
  },
  {
   "cell_type": "markdown",
   "metadata": {},
   "source": [
    "##### ![3) Problema comercial:](https://github.com/chetincho/ds_Prediccion_de_enfermedades/blob/main/img/Problema%20comercial.jpg?raw=true)"
   ]
  },
  {
   "cell_type": "markdown",
   "metadata": {},
   "source": [
    "¿Es posible desarrollar un modelo que, en función de ciertos inputs, nos permita predecir una enfermedad?"
   ]
  },
  {
   "cell_type": "markdown",
   "metadata": {},
   "source": [
    "##### ![Librerías utilizadas:](https://github.com/chetincho/ds_Prediccion_de_enfermedades/blob/main/img/Librerias%20utilizadas.jpg?raw=true)"
   ]
  },
  {
   "cell_type": "code",
   "execution_count": 14,
   "metadata": {},
   "outputs": [],
   "source": [
    "import pandas as pd"
   ]
  },
  {
   "cell_type": "markdown",
   "metadata": {},
   "source": [
    "##### ![4) Data Acquisition:](https://github.com/chetincho/ds_Prediccion_de_enfermedades/blob/main/img/Data%20Acquisition.jpg?raw=true)"
   ]
  },
  {
   "cell_type": "markdown",
   "metadata": {},
   "source": [
    "El dataset utilizado es el resultado de la recopilación de datos provenientes de las historias clínicas de pacientes que ya fueron diagnosticados por esta institución y cuyos casos fueron analizados por la junta médica de este hospital."
   ]
  },
  {
   "cell_type": "code",
   "execution_count": 15,
   "metadata": {},
   "outputs": [],
   "source": [
    "# Defino el origen de los datos.\n",
    "url_dataset=\"https://raw.githubusercontent.com/chetincho/ds_Prediccion_de_enfermedades/refs/heads/main/dataset/ds_entrenamiento.csv\"\n",
    "\n",
    "# Carga del dataframe\n",
    "df = pd.read_csv(url_dataset)\n",
    "\n",
    "# Seteamos el índice del dataframe para que comience en 1\n",
    "df.set_index(pd.Index(range(1, len(df) + 1)), inplace=True)"
   ]
  },
  {
   "cell_type": "markdown",
   "metadata": {},
   "source": [
    "##### ![5) Data Acquisition:](https://github.com/chetincho/ds_Prediccion_de_enfermedades/blob/main/img/Exploratory%20Data%20Analysis.jpg?raw=true)"
   ]
  },
  {
   "cell_type": "markdown",
   "metadata": {},
   "source": [
    "🗒️ ¿Cuál es la cantidad de filas y columnas que componen el dataframe?"
   ]
  },
  {
   "cell_type": "code",
   "execution_count": 16,
   "metadata": {},
   "outputs": [
    {
     "name": "stdout",
     "output_type": "stream",
     "text": [
      "Total de Filas = 4920\n",
      "Total de Columnas = 134\n"
     ]
    }
   ],
   "source": [
    "filas, columnas = df.shape\n",
    "print(f\"Total de Filas = {filas}\")\n",
    "print(f\"Total de Columnas = {columnas}\")"
   ]
  },
  {
   "cell_type": "markdown",
   "metadata": {},
   "source": [
    "🗒️ ¿Cuáles son las columnas o atributos que lo componen?"
   ]
  },
  {
   "cell_type": "code",
   "execution_count": 19,
   "metadata": {},
   "outputs": [
    {
     "name": "stdout",
     "output_type": "stream",
     "text": [
      "Este dataframe esta compuesto por las siguientes columnas:\n",
      "['itching', 'skin_rash', 'nodal_skin_eruptions', 'continuous_sneezing', 'shivering', 'chills', 'joint_pain', 'stomach_pain', 'acidity', 'ulcers_on_tongue', 'muscle_wasting', 'vomiting', 'burning_micturition', 'spotting_ urination', 'fatigue', 'weight_gain', 'anxiety', 'cold_hands_and_feets', 'mood_swings', 'weight_loss', 'restlessness', 'lethargy', 'patches_in_throat', 'irregular_sugar_level', 'cough', 'high_fever', 'sunken_eyes', 'breathlessness', 'sweating', 'dehydration', 'indigestion', 'headache', 'yellowish_skin', 'dark_urine', 'nausea', 'loss_of_appetite', 'pain_behind_the_eyes', 'back_pain', 'constipation', 'abdominal_pain', 'diarrhoea', 'mild_fever', 'yellow_urine', 'yellowing_of_eyes', 'acute_liver_failure', 'fluid_overload', 'swelling_of_stomach', 'swelled_lymph_nodes', 'malaise', 'blurred_and_distorted_vision', 'phlegm', 'throat_irritation', 'redness_of_eyes', 'sinus_pressure', 'runny_nose', 'congestion', 'chest_pain', 'weakness_in_limbs', 'fast_heart_rate', 'pain_during_bowel_movements', 'pain_in_anal_region', 'bloody_stool', 'irritation_in_anus', 'neck_pain', 'dizziness', 'cramps', 'bruising', 'obesity', 'swollen_legs', 'swollen_blood_vessels', 'puffy_face_and_eyes', 'enlarged_thyroid', 'brittle_nails', 'swollen_extremeties', 'excessive_hunger', 'extra_marital_contacts', 'drying_and_tingling_lips', 'slurred_speech', 'knee_pain', 'hip_joint_pain', 'muscle_weakness', 'stiff_neck', 'swelling_joints', 'movement_stiffness', 'spinning_movements', 'loss_of_balance', 'unsteadiness', 'weakness_of_one_body_side', 'loss_of_smell', 'bladder_discomfort', 'foul_smell_of urine', 'continuous_feel_of_urine', 'passage_of_gases', 'internal_itching', 'toxic_look_(typhos)', 'depression', 'irritability', 'muscle_pain', 'altered_sensorium', 'red_spots_over_body', 'belly_pain', 'abnormal_menstruation', 'dischromic _patches', 'watering_from_eyes', 'increased_appetite', 'polyuria', 'family_history', 'mucoid_sputum', 'rusty_sputum', 'lack_of_concentration', 'visual_disturbances', 'receiving_blood_transfusion', 'receiving_unsterile_injections', 'coma', 'stomach_bleeding', 'distention_of_abdomen', 'history_of_alcohol_consumption', 'fluid_overload.1', 'blood_in_sputum', 'prominent_veins_on_calf', 'palpitations', 'painful_walking', 'pus_filled_pimples', 'blackheads', 'scurring', 'skin_peeling', 'silver_like_dusting', 'small_dents_in_nails', 'inflammatory_nails', 'blister', 'red_sore_around_nose', 'yellow_crust_ooze', 'prognosis', 'Unnamed: 133']\n"
     ]
    }
   ],
   "source": [
    "# Utilizo el método .tolist() para convertir las columnas en una lista\n",
    "print(f\"Este dataframe esta compuesto por las siguientes columnas:\")\n",
    "columnas = df.columns.tolist()\n",
    "print(columnas)"
   ]
  },
  {
   "cell_type": "markdown",
   "metadata": {},
   "source": [
    "🗒️ ¿Cuáles son los tipos de dato de cada columna?"
   ]
  },
  {
   "cell_type": "code",
   "execution_count": 29,
   "metadata": {},
   "outputs": [
    {
     "name": "stdout",
     "output_type": "stream",
     "text": [
      "Tipo de Dato por Columna:\n",
      "itching: int64\n",
      "skin_rash: int64\n",
      "nodal_skin_eruptions: int64\n",
      "continuous_sneezing: int64\n",
      "shivering: int64\n",
      "chills: int64\n",
      "joint_pain: int64\n",
      "stomach_pain: int64\n",
      "acidity: int64\n",
      "ulcers_on_tongue: int64\n",
      "muscle_wasting: int64\n",
      "vomiting: int64\n",
      "burning_micturition: int64\n",
      "spotting_ urination: int64\n",
      "fatigue: int64\n",
      "weight_gain: int64\n",
      "anxiety: int64\n",
      "cold_hands_and_feets: int64\n",
      "mood_swings: int64\n",
      "weight_loss: int64\n",
      "restlessness: int64\n",
      "lethargy: int64\n",
      "patches_in_throat: int64\n",
      "irregular_sugar_level: int64\n",
      "cough: int64\n",
      "high_fever: int64\n",
      "sunken_eyes: int64\n",
      "breathlessness: int64\n",
      "sweating: int64\n",
      "dehydration: int64\n",
      "indigestion: int64\n",
      "headache: int64\n",
      "yellowish_skin: int64\n",
      "dark_urine: int64\n",
      "nausea: int64\n",
      "loss_of_appetite: int64\n",
      "pain_behind_the_eyes: int64\n",
      "back_pain: int64\n",
      "constipation: int64\n",
      "abdominal_pain: int64\n",
      "diarrhoea: int64\n",
      "mild_fever: int64\n",
      "yellow_urine: int64\n",
      "yellowing_of_eyes: int64\n",
      "acute_liver_failure: int64\n",
      "fluid_overload: int64\n",
      "swelling_of_stomach: int64\n",
      "swelled_lymph_nodes: int64\n",
      "malaise: int64\n",
      "blurred_and_distorted_vision: int64\n",
      "phlegm: int64\n",
      "throat_irritation: int64\n",
      "redness_of_eyes: int64\n",
      "sinus_pressure: int64\n",
      "runny_nose: int64\n",
      "congestion: int64\n",
      "chest_pain: int64\n",
      "weakness_in_limbs: int64\n",
      "fast_heart_rate: int64\n",
      "pain_during_bowel_movements: int64\n",
      "pain_in_anal_region: int64\n",
      "bloody_stool: int64\n",
      "irritation_in_anus: int64\n",
      "neck_pain: int64\n",
      "dizziness: int64\n",
      "cramps: int64\n",
      "bruising: int64\n",
      "obesity: int64\n",
      "swollen_legs: int64\n",
      "swollen_blood_vessels: int64\n",
      "puffy_face_and_eyes: int64\n",
      "enlarged_thyroid: int64\n",
      "brittle_nails: int64\n",
      "swollen_extremeties: int64\n",
      "excessive_hunger: int64\n",
      "extra_marital_contacts: int64\n",
      "drying_and_tingling_lips: int64\n",
      "slurred_speech: int64\n",
      "knee_pain: int64\n",
      "hip_joint_pain: int64\n",
      "muscle_weakness: int64\n",
      "stiff_neck: int64\n",
      "swelling_joints: int64\n",
      "movement_stiffness: int64\n",
      "spinning_movements: int64\n",
      "loss_of_balance: int64\n",
      "unsteadiness: int64\n",
      "weakness_of_one_body_side: int64\n",
      "loss_of_smell: int64\n",
      "bladder_discomfort: int64\n",
      "foul_smell_of urine: int64\n",
      "continuous_feel_of_urine: int64\n",
      "passage_of_gases: int64\n",
      "internal_itching: int64\n",
      "toxic_look_(typhos): int64\n",
      "depression: int64\n",
      "irritability: int64\n",
      "muscle_pain: int64\n",
      "altered_sensorium: int64\n",
      "red_spots_over_body: int64\n",
      "belly_pain: int64\n",
      "abnormal_menstruation: int64\n",
      "dischromic _patches: int64\n",
      "watering_from_eyes: int64\n",
      "increased_appetite: int64\n",
      "polyuria: int64\n",
      "family_history: int64\n",
      "mucoid_sputum: int64\n",
      "rusty_sputum: int64\n",
      "lack_of_concentration: int64\n",
      "visual_disturbances: int64\n",
      "receiving_blood_transfusion: int64\n",
      "receiving_unsterile_injections: int64\n",
      "coma: int64\n",
      "stomach_bleeding: int64\n",
      "distention_of_abdomen: int64\n",
      "history_of_alcohol_consumption: int64\n",
      "fluid_overload.1: int64\n",
      "blood_in_sputum: int64\n",
      "prominent_veins_on_calf: int64\n",
      "palpitations: int64\n",
      "painful_walking: int64\n",
      "pus_filled_pimples: int64\n",
      "blackheads: int64\n",
      "scurring: int64\n",
      "skin_peeling: int64\n",
      "silver_like_dusting: int64\n",
      "small_dents_in_nails: int64\n",
      "inflammatory_nails: int64\n",
      "blister: int64\n",
      "red_sore_around_nose: int64\n",
      "yellow_crust_ooze: int64\n",
      "prognosis: object\n",
      "Unnamed: 133: float64\n"
     ]
    }
   ],
   "source": [
    "print(f\"Tipo de Dato por Columna:\")\n",
    "for columna, tipo in df.dtypes.items():\n",
    "    print(f\"{columna}: {tipo}\")"
   ]
  },
  {
   "cell_type": "code",
   "execution_count": null,
   "metadata": {},
   "outputs": [
    {
     "name": "stdout",
     "output_type": "stream",
     "text": [
      "int64      132\n",
      "object       1\n",
      "float64      1\n",
      "Name: count, dtype: int64\n"
     ]
    }
   ],
   "source": [
    "print(f\"Resumen de los tipo de datos que componen el dataframe:\")\n",
    "resumen_tipos_datos = df.dtypes.value_counts()\n",
    "print(resumen_tipos_datos)"
   ]
  }
 ],
 "metadata": {
  "kernelspec": {
   "display_name": "Python 3",
   "language": "python",
   "name": "python3"
  },
  "language_info": {
   "codemirror_mode": {
    "name": "ipython",
    "version": 3
   },
   "file_extension": ".py",
   "mimetype": "text/x-python",
   "name": "python",
   "nbconvert_exporter": "python",
   "pygments_lexer": "ipython3",
   "version": "3.11.5"
  }
 },
 "nbformat": 4,
 "nbformat_minor": 2
}
